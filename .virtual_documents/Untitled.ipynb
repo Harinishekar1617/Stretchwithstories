import requests

API_KEY = 'WEATHER_API_KEY'
CITY = "New York"

url = f"http://api.weatherapi.com/v1/current.json?key={'5dba1f60bb7c49a09db130437251606'}&q={CITY}"

response = requests.get(url)

if response.status_code == 200:
    data = response.json()
    temperature = data['main']['temp']
    print(f"Current temperature in {CITY}: {temperature}°C")
else:
    print(f"Error retrieving data: Status code {response.status_code}")






