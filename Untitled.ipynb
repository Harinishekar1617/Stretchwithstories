{
 "cells": [
  {
   "cell_type": "code",
   "execution_count": 11,
   "id": "5e9cd91b-4c26-4711-945a-99c19c46609f",
   "metadata": {},
   "outputs": [
    {
     "name": "stdout",
     "output_type": "stream",
     "text": [
      "Current temperature in New York: °C\n"
     ]
    }
   ],
   "source": [
    "import requests\n",
    "\n",
    "API_KEY = 'WEATHER_API_KEY'\n",
    "CITY = \"New York\"\n",
    "\n",
    "url = f\"http://api.weatherapi.com/v1/current.json?key={'5dba1f60bb7c49a09db130437251606'}&q={CITY}\"\n",
    "\n",
    "response = requests.get(url)\n",
    "\n",
    "if response.status_code == 200:\n",
    "    data = response.json()\n",
    "    temperature = data['main']['temp']\n",
    "    print(f\"Current temperature in {CITY}: {temperature}°C\")\n",
    "else:\n",
    "    print(f\"Error retrieving data: Status code {response.status_code}\")"
   ]
  },
  {
   "cell_type": "markdown",
   "id": "af6767cd-cf1b-4a8e-8eda-f01555e6cbce",
   "metadata": {},
   "source": [
    "https://blog.algomaster.io/p/whats-an-api"
   ]
  },
  {
   "cell_type": "code",
   "execution_count": null,
   "id": "75307f1c-f0a2-4508-9c08-a77fd7c810f8",
   "metadata": {},
   "outputs": [],
   "source": []
  }
 ],
 "metadata": {
  "kernelspec": {
   "display_name": "lang_env",
   "language": "python",
   "name": "lang_env"
  },
  "language_info": {
   "codemirror_mode": {
    "name": "ipython",
    "version": 3
   },
   "file_extension": ".py",
   "mimetype": "text/x-python",
   "name": "python",
   "nbconvert_exporter": "python",
   "pygments_lexer": "ipython3",
   "version": "3.12.7"
  }
 },
 "nbformat": 4,
 "nbformat_minor": 5
}
