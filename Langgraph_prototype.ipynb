{
 "cells": [
  {
   "cell_type": "code",
   "execution_count": 1,
   "id": "5d5ba11a-d92b-46ef-ae3b-5bf0955cd5b6",
   "metadata": {},
   "outputs": [
    {
     "name": "stdout",
     "output_type": "stream",
     "text": [
      "Jupyter Notebook's current working directory: /Users/hshekar/langgraph_test\n",
      "'.env' file found at: /Users/hshekar/langgraph_test/.env\n",
      "\n",
      "--- .env file content ---\n",
      "WEATHER_API_KEY=\"5dba1f60bb7c49a09db130437251606\"\n",
      "TAVILY_API_KEY=\"Qoa3xtvNMIB9fYCE2ZemJ9GZiRVnJWKz\"\n",
      "TOGETHER_API_KEY=\"Ad08267a811875d5a525a7e2c39c3260ce347105eaa3c559f626aae9f23a6fb1\"\n",
      "api_key=\"219b45490dc00d37f87d78f11942bf48287964620e6850b1ab33f1923cd246c3\"\n",
      "\n",
      "-------------------------\n",
      "\n"
     ]
    }
   ],
   "source": [
    "#Ensuring the current working directly has the environment file with API keys\n",
    "\n",
    "import os\n",
    "\n",
    "current_working_directory = os.getcwd()\n",
    "print(f\"Jupyter Notebook's current working directory: {current_working_directory}\")\n",
    "\n",
    "# Check for the .env file in this directory\n",
    "env_file_path = os.path.join(current_working_directory, '.env')\n",
    "if os.path.exists(env_file_path):\n",
    "    print(f\"'.env' file found at: {env_file_path}\")\n",
    "    # Also print its content to be absolutely sure\n",
    "    with open(env_file_path, 'r') as f:\n",
    "        print(\"\\n--- .env file content ---\")\n",
    "        print(f.read())\n",
    "        print(\"-------------------------\\n\")\n",
    "else:\n",
    "    print(f\"ERROR: '.env' file NOT found at: {env_file_path}\")\n",
    "    print(\"Please ensure your .env file is in the current working directory or a parent directory.\")"
   ]
  },
  {
   "cell_type": "code",
   "execution_count": 2,
   "id": "269c4f57-e13a-49c6-bc2c-417b5d2b449b",
   "metadata": {},
   "outputs": [],
   "source": [
    "# Load the environment variables\n",
    "import os\n",
    "from dotenv import load_dotenv\n",
    "load_dotenv('.env')\n",
    "\n",
    "WEATHER_API_KEY = os.environ['WEATHER_API_KEY']\n",
    "TAVILY_API_KEY = os.environ['TAVILY_API_KEY']\n",
    "TOGETHER_API_KEY = os.environ['TOGETHER_API_KEY']"
   ]
  },
  {
   "cell_type": "code",
   "execution_count": 3,
   "id": "58743d95-c286-44b3-a2a1-0e1fb2aead5f",
   "metadata": {},
   "outputs": [],
   "source": [
    "# Import the required libraries and methods\n",
    "import requests\n",
    "from typing import List, Literal\n",
    "from langchain_community.tools.tavily_search import TavilySearchResults\n",
    "from langchain_core.tools import tool\n",
    "from langchain_openai import ChatOpenAI"
   ]
  },
  {
   "cell_type": "code",
   "execution_count": 4,
   "id": "727bef84-8757-4d5c-9ba0-41d4999371bc",
   "metadata": {},
   "outputs": [],
   "source": [
    "# define the tools that are required for the agent \n",
    "@tool\n",
    "def get_weather(query: str) -> list:\n",
    "    \"\"\"Search weatherapi to get the current weather\"\"\"\n",
    "    endpoint = f\"http://api.weatherapi.com/v1/current.json?key={WEATHER_API_KEY}&q={query}\"\n",
    "    response = requests.get(endpoint)\n",
    "    data = response.json()\n",
    "\n",
    "    if data.get(\"location\"):\n",
    "        return data\n",
    "    else:\n",
    "        return \"Weather Data Not Found\"\n",
    "\n",
    "@tool\n",
    "def search_web(query: str) -> list:\n",
    "    \"\"\"Search the web for a query\"\"\"\n",
    "    tavily_search = TavilySearchResults(api_key=TAVILY_API_KEY, max_results=2, search_depth='advanced', max_tokens=1000)\n",
    "    results = tavily_search.invoke(query)\n",
    "    return results"
   ]
  },
  {
   "cell_type": "code",
   "execution_count": 10,
   "id": "333722e0-0592-4b83-b55c-8341c5831eee",
   "metadata": {},
   "outputs": [],
   "source": [
    "#access API key via cosmos\n",
    "from openai import OpenAI\n",
    "llm = ChatOpenAI(base_url=\"https://aiplatform.dev51.cbf.dev.paypalinc.com/cosmosai/llm/v1\",\n",
    "    api_key=\"219b45490dc00d37f87d78f11942bf48287964620e6850b1ab33f1923cd246c3\",\n",
    "    model=\"llama31-8b\")\n",
    "\n",
    "tools = [search_web, get_weather]\n",
    "llm_with_tools = llm.bind_tools(tools)"
   ]
  },
  {
   "cell_type": "markdown",
   "id": "715360ee-2883-4377-aa2e-8726b608386e",
   "metadata": {},
   "source": [
    "State maintains and updates the context or memory as the process advances and enabling each step to access relevant information from earlier steps for dynamic decision-making.\n",
    "\n",
    "Nodes represent individual computation steps or tasks, performing specific functions like data processing, decision-making or system interactions.\n",
    "\n",
    "Edges connect nodes, dictating the flow of computation and allowing conditional logic to guide the workflow based on the current state, Yes or No box\n",
    "\n",
    "Stateful graph is central to its architecture, where each node represents a step in the computation. The graph maintains and updates a shared state as the process advances."
   ]
  },
  {
   "cell_type": "code",
   "execution_count": null,
   "id": "7649a8a1-0c25-40de-a1d9-fe8c23eef4b6",
   "metadata": {},
   "outputs": [],
   "source": []
  },
  {
   "cell_type": "code",
   "execution_count": 19,
   "id": "0b994ce7-e0a3-4338-9474-13fd909cbb57",
   "metadata": {},
   "outputs": [
    {
     "name": "stdout",
     "output_type": "stream",
     "text": [
      "[{'name': 'get_weather', 'args': {'query': 'Trivandrum'}, 'id': 'chatcmpl-tool-224a2f21e87949749c59cf9daab35862', 'type': 'tool_call'}, {'name': 'search_web', 'args': {'query': 'Kerala'}, 'id': 'chatcmpl-tool-fdb924f6c3d8420a9c16d3f5b0938853', 'type': 'tool_call'}, {'name': 'search_web', 'args': {'query': 'Why is the sky blue?'}, 'id': 'chatcmpl-tool-8b7960d5632940ec8b1ce12c616e3729', 'type': 'tool_call'}]\n",
      "I can't verify the current weather in Trivandrum. However, I can suggest some options for you to find the current weather in Trivandrum. \n",
      "\n",
      "You can check the current weather in Trivandrum by visiting a weather website such as AccuWeather, Weather.com, or the India Meteorological Department (IMD) website. \n",
      "\n",
      "Alternatively, you can use a virtual assistant like Siri or Google Assistant to find the current weather in Trivandrum.\n"
     ]
    }
   ],
   "source": [
    "prompt = \"\"\"\n",
    "    Given only the tools at your disposal, mention tool calls for the following tasks:\n",
    "    Do not change the query given for any search tasks\n",
    "        1. What is the current weather in Trivandrum today\n",
    "        2. Can you tell me about Kerala\n",
    "        3. Why is the sky blue?\n",
    "    \"\"\"\n",
    "\n",
    "results = llm_with_tools.invoke(prompt)\n",
    "\n",
    "print(results.tool_calls)\n",
    "\n",
    "query = \"What is the current weather in Trivandrum today\"\n",
    "response = llm.invoke(query)\n",
    "print(response.content)"
   ]
  },
  {
   "cell_type": "code",
   "execution_count": 20,
   "id": "66996679-abe3-48d2-b62e-a273b0892690",
   "metadata": {},
   "outputs": [
    {
     "name": "stdout",
     "output_type": "stream",
     "text": [
      "================================\u001b[1m Human Message \u001b[0m=================================\n",
      "\n",
      "What is the current weather in Trivandrum today\n",
      "==================================\u001b[1m Ai Message \u001b[0m==================================\n",
      "Tool Calls:\n",
      "  get_weather (chatcmpl-tool-45789a86885f4a6aadd8ae4b1ab8adec)\n",
      " Call ID: chatcmpl-tool-45789a86885f4a6aadd8ae4b1ab8adec\n",
      "  Args:\n",
      "    query: Trivandrum\n",
      "=================================\u001b[1m Tool Message \u001b[0m=================================\n",
      "Name: get_weather\n",
      "\n",
      "{\"location\": {\"name\": \"Trivandrum\", \"region\": \"Kerala\", \"country\": \"India\", \"lat\": 8.5069, \"lon\": 76.9569, \"tz_id\": \"Asia/Kolkata\", \"localtime_epoch\": 1750093964, \"localtime\": \"2025-06-16 22:42\"}, \"current\": {\"last_updated_epoch\": 1750093200, \"last_updated\": \"2025-06-16 22:30\", \"temp_c\": 25.3, \"temp_f\": 77.5, \"is_day\": 0, \"condition\": {\"text\": \"Mist\", \"icon\": \"//cdn.weatherapi.com/weather/64x64/night/143.png\", \"code\": 1030}, \"wind_mph\": 7.6, \"wind_kph\": 12.2, \"wind_degree\": 298, \"wind_dir\": \"WNW\", \"pressure_mb\": 1010.0, \"pressure_in\": 29.83, \"precip_mm\": 1.87, \"precip_in\": 0.07, \"humidity\": 94, \"cloud\": 75, \"feelslike_c\": 28.3, \"feelslike_f\": 82.9, \"windchill_c\": 25.3, \"windchill_f\": 77.6, \"heatindex_c\": 28.3, \"heatindex_f\": 83.0, \"dewpoint_c\": 23.7, \"dewpoint_f\": 74.6, \"vis_km\": 3.0, \"vis_miles\": 1.0, \"uv\": 0.0, \"gust_mph\": 14.4, \"gust_kph\": 23.1}}\n",
      "==================================\u001b[1m Ai Message \u001b[0m==================================\n",
      "\n",
      "The current weather in Trivandrum is misty with a temperature of 25.3°C and a humidity of 94%. The wind speed is 12.2 km/h and the pressure is 1010 mb.\n"
     ]
    }
   ],
   "source": [
    "from langgraph.prebuilt import create_react_agent\n",
    "\n",
    "# system prompt is used to inform the tools available to when to use each\n",
    "system_prompt = \"\"\"Act as a helpful assistant.\n",
    "    Use the tools at your disposal to perform tasks as needed.\n",
    "        - get_weather: whenever user asks get the weather of a place.\n",
    "        - search_web: whenever user asks for information on current events or if you don't know the answer.\n",
    "    Use the tools only if you don't know the answer.\n",
    "    \"\"\"\n",
    "\n",
    "# we can initialize the agent using the llama3 model, tools, and system prompt.\n",
    "agent = create_react_agent(model=llm, tools=tools)\n",
    "\n",
    "# Let’s query the agent to see the result.\n",
    "def print_stream(stream):\n",
    "    for s in stream:\n",
    "        message = s[\"messages\"][-1]\n",
    "        if isinstance(message, tuple):\n",
    "            print(message)\n",
    "        else:\n",
    "            message.pretty_print()\n",
    "\n",
    "inputs = {\"messages\": [(\"user\", \"What is the current weather in Trivandrum today\")]}\n",
    "\n",
    "print_stream(agent.stream(inputs, stream_mode=\"values\"))"
   ]
  },
  {
   "cell_type": "code",
   "execution_count": 14,
   "id": "df053c97-b475-41a9-94db-6eebd9a34a8f",
   "metadata": {},
   "outputs": [],
   "source": [
    "from langgraph.prebuilt import ToolNode\n",
    "from langgraph.graph import StateGraph, MessagesState, START, END"
   ]
  },
  {
   "cell_type": "code",
   "execution_count": 15,
   "id": "45347a5c-93e1-4e22-abe6-8f2c4154b4ac",
   "metadata": {},
   "outputs": [],
   "source": [
    "tools = [search_web, get_weather]\n",
    "tool_node = ToolNode(tools)"
   ]
  },
  {
   "cell_type": "code",
   "execution_count": 16,
   "id": "7657877a-c4a2-4f16-9509-0ca2c0a0ef34",
   "metadata": {},
   "outputs": [],
   "source": [
    "def call_model(state: MessagesState):\n",
    "    messages = state[\"messages\"]\n",
    "    response = llm_with_tools.invoke(messages)\n",
    "    return {\"messages\": [response]}\n",
    "\n",
    "def call_tools(state: MessagesState) -> Literal[\"tools\", END]:\n",
    "    messages = state[\"messages\"]\n",
    "    last_message = messages[-1]\n",
    "    if last_message.tool_calls:\n",
    "        return \"tools\"\n",
    "    return END"
   ]
  },
  {
   "cell_type": "code",
   "execution_count": 17,
   "id": "ade6adab-bd22-4373-b728-f416a9094c3a",
   "metadata": {},
   "outputs": [],
   "source": [
    "# initialize the workflow from StateGraph\n",
    "workflow = StateGraph(MessagesState)\n",
    "\n",
    "# add a node named LLM, with call_model function. This node uses an LLM to make decisions based on the input given\n",
    "workflow.add_node(\"LLM\", call_model)\n",
    "\n",
    "# Our workflow starts with the LLM node\n",
    "workflow.add_edge(START, \"LLM\")\n",
    "\n",
    "# Add a tools node\n",
    "workflow.add_node(\"tools\", tool_node)\n",
    "\n",
    "# Add a conditional edge from LLM to call_tools function. It can go tools node or end depending on the output of the LLM. \n",
    "workflow.add_conditional_edges(\"LLM\", call_tools)\n",
    "\n",
    "# tools node sends the information back to the LLM\n",
    "workflow.add_edge(\"tools\", \"LLM\")\n",
    "\n",
    "agent = workflow.compile()"
   ]
  },
  {
   "cell_type": "code",
   "execution_count": 18,
   "id": "295e1f8b-b192-49d6-8271-3d83198dcc7a",
   "metadata": {},
   "outputs": [
    {
     "name": "stdout",
     "output_type": "stream",
     "text": [
      "================================\u001b[1m Human Message \u001b[0m=================================\n",
      "\n",
      "Will it rain in Trivandrum today?\n",
      "==================================\u001b[1m Ai Message \u001b[0m==================================\n",
      "Tool Calls:\n",
      "  get_weather (chatcmpl-tool-2a8b4e2497c1475cb2d55895412de5dc)\n",
      " Call ID: chatcmpl-tool-2a8b4e2497c1475cb2d55895412de5dc\n",
      "  Args:\n",
      "    query: Trivandrum\n",
      "=================================\u001b[1m Tool Message \u001b[0m=================================\n",
      "Name: get_weather\n",
      "\n",
      "{\"location\": {\"name\": \"Trivandrum\", \"region\": \"Kerala\", \"country\": \"India\", \"lat\": 8.5069, \"lon\": 76.9569, \"tz_id\": \"Asia/Kolkata\", \"localtime_epoch\": 1750091887, \"localtime\": \"2025-06-16 22:08\"}, \"current\": {\"last_updated_epoch\": 1750091400, \"last_updated\": \"2025-06-16 22:00\", \"temp_c\": 25.0, \"temp_f\": 77.0, \"is_day\": 0, \"condition\": {\"text\": \"Mist\", \"icon\": \"//cdn.weatherapi.com/weather/64x64/night/143.png\", \"code\": 1030}, \"wind_mph\": 7.6, \"wind_kph\": 12.2, \"wind_degree\": 298, \"wind_dir\": \"WNW\", \"pressure_mb\": 1010.0, \"pressure_in\": 29.83, \"precip_mm\": 1.87, \"precip_in\": 0.07, \"humidity\": 94, \"cloud\": 75, \"feelslike_c\": 27.8, \"feelslike_f\": 82.0, \"windchill_c\": 25.3, \"windchill_f\": 77.6, \"heatindex_c\": 28.3, \"heatindex_f\": 83.0, \"dewpoint_c\": 23.7, \"dewpoint_f\": 74.6, \"vis_km\": 3.0, \"vis_miles\": 1.0, \"uv\": 0.0, \"gust_mph\": 14.4, \"gust_kph\": 23.1}}\n",
      "==================================\u001b[1m Ai Message \u001b[0m==================================\n",
      "\n",
      "Based on the weather API response, it is likely to rain in Trivandrum today as the precipitation is 1.87 mm. However, the exact weather conditions can change, and it's always a good idea to check the latest forecast for the most accurate information.\n"
     ]
    }
   ],
   "source": [
    "for chunk in agent.stream(\n",
    "    {\"messages\": [(\"user\", \"Will it rain in Trivandrum today?\")]},\n",
    "    stream_mode=\"values\",):\n",
    "    chunk[\"messages\"][-1].pretty_print()"
   ]
  },
  {
   "cell_type": "code",
   "execution_count": null,
   "id": "4d5f9213-94aa-47c5-b525-41555acd28bc",
   "metadata": {},
   "outputs": [],
   "source": []
  }
 ],
 "metadata": {
  "kernelspec": {
   "display_name": "lang_env",
   "language": "python",
   "name": "lang_env"
  },
  "language_info": {
   "codemirror_mode": {
    "name": "ipython",
    "version": 3
   },
   "file_extension": ".py",
   "mimetype": "text/x-python",
   "name": "python",
   "nbconvert_exporter": "python",
   "pygments_lexer": "ipython3",
   "version": "3.12.7"
  }
 },
 "nbformat": 4,
 "nbformat_minor": 5
}
